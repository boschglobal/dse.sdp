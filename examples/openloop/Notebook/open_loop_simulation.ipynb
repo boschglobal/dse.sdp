{
 "cells": [
  {
   "cell_type": "markdown",
   "metadata": {},
   "source": [
    "Open Loop Simulation"
   ]
  },
  {
   "cell_type": "code",
   "execution_count": 38,
   "metadata": {},
   "outputs": [],
   "source": [
    "from pathlib import Path\n",
    "import pandas as pd\n",
    "import matplotlib.pyplot as plt\n",
    "import os\n",
    "\n",
    "SIM_DIR = \"out/sim\"\n",
    "CSV_OUTPUT = f\"{SIM_DIR}/measurement.ChannelGroup_0_linear.csv\"\n",
    "SIMER_IMAGE = \"ghcr.io/boschglobal/dse-simer:latest\"\n",
    "MDF_FILE = \"measurement.mf4\"\n"
   ]
  },
  {
   "cell_type": "markdown",
   "metadata": {},
   "source": [
    "Drag and Drop Widget for CSV"
   ]
  },
  {
   "cell_type": "code",
   "execution_count": 39,
   "metadata": {},
   "outputs": [
    {
     "name": "stdout",
     "output_type": "stream",
     "text": [
      "Drag and drop your CSV file below. It will be saved to: ./csv_input\n"
     ]
    },
    {
     "data": {
      "application/vnd.jupyter.widget-view+json": {
       "model_id": "2e3b8e12690748a2aaac0a2f3c7d2ddd",
       "version_major": 2,
       "version_minor": 0
      },
      "text/plain": [
       "FileUpload(value=(), accept='.csv', description='Upload')"
      ]
     },
     "metadata": {},
     "output_type": "display_data"
    }
   ],
   "source": [
    "import ipywidgets as widgets\n",
    "from IPython.display import display\n",
    "\n",
    "target_folder = \"./csv_input\" \n",
    "os.makedirs(target_folder, exist_ok=True)\n",
    "\n",
    "# file uploader widget\n",
    "uploader = widgets.FileUpload(\n",
    "    accept='.csv', \n",
    "    multiple=False \n",
    ")\n",
    "\n",
    "def handle_upload(change):\n",
    "    if uploader.value:  # Check if a file has been uploaded\n",
    "        for uploaded_file in uploader.value:\n",
    "            file_name = uploaded_file['name']  # Get the file name\n",
    "            file_content = uploaded_file['content']  # Get the file content\n",
    "            # Save the file to the target folder\n",
    "            file_path = os.path.join(target_folder, \"input__value_set.csv\")\n",
    "            with open(file_path, 'wb') as f:\n",
    "                f.write(file_content)\n",
    "            print(f\"File '{file_name}' has been uploaded and copied to '{target_folder}'.\")\n",
    "\n",
    "# Attach the function to the widget's change event\n",
    "uploader.observe(handle_upload, names='value')\n",
    "\n",
    "# Display the widget\n",
    "print(f\"Drag and drop your CSV file below. It will be saved to: {target_folder}\")\n",
    "display(uploader)\n"
   ]
  },
  {
   "cell_type": "markdown",
   "metadata": {},
   "source": [
    "Notebook Controller"
   ]
  },
  {
   "cell_type": "code",
   "execution_count": 40,
   "metadata": {},
   "outputs": [],
   "source": [
    "from asammdf import MDF\n",
    "\n",
    "def run_command(cmd):\n",
    "    cmd_str = ' '.join(cmd)\n",
    "    print(f\"Running: {cmd_str}\")\n",
    "    result = os.system(cmd_str)\n",
    "    if result != 0:\n",
    "        raise RuntimeError(f\"Command failed: {cmd_str}\")\n",
    "    print(f\"Command executed successfully.\")\n",
    "\n",
    "def run_simulation():\n",
    "    os.environ[\"TASK_X_REMOTE_TASKFILES\"] = \"1\"\n",
    "    os.environ[\"SIMER_IMAGE\"] = SIMER_IMAGE\n",
    "\n",
    "    # Build task\n",
    "    run_command([\"task\", \"-y\", \"build\"])\n",
    "\n",
    "    # Run simulation\n",
    "    sim_cmd = [\n",
    "        \"docker\", \"run\", \"--rm\",\n",
    "        \"-v\", f\"{os.getcwd()}/out/sim:/sim\", SIMER_IMAGE,\n",
    "        \"-env\", f\"linear:MEASUREMENT_FILE=/sim/{MDF_FILE}\",\n",
    "        \"-stepsize\", \"0.0005\", \"-endtime\", \"0.005\"\n",
    "    ]\n",
    "    run_command(sim_cmd)\n",
    "    print(\"Simulation complete.\")\n",
    "\n",
    "    # Convert MDF to CSV\n",
    "    convert_to_csv(SIM_DIR, MDF_FILE, CSV_OUTPUT)\n",
    "    print(f\"Converted MDF to CSV: {CSV_OUTPUT}\")\n",
    "\n",
    "def convert_to_csv(sim_dir, mdf_file, csv_output):\n",
    "    #Convert MDF file to CSV using asammdf\n",
    "    in_file = os.path.join(sim_dir, mdf_file)\n",
    "    out_file = csv_output\n",
    "    mdf = MDF(in_file)\n",
    "    mdf.export(fmt=\"csv\", filename=out_file)"
   ]
  },
  {
   "cell_type": "markdown",
   "metadata": {},
   "source": [
    "Run the Simulation"
   ]
  },
  {
   "cell_type": "code",
   "execution_count": 41,
   "metadata": {},
   "outputs": [
    {
     "name": "stdout",
     "output_type": "stream",
     "text": [
      "Running: task -y build\n",
      "\u001b[33mThe task you are attempting to run depends on the remote Taskfile at \"https://raw.githubusercontent.com/boschglobal/dse.fmi/refs/tags/v1.1.15/Taskfile.yml\".\n",
      "--- Make sure you trust the source of this Taskfile before continuing ---\n",
      "Continue? [assuming yes]\n",
      "\u001b[0mCURL https://github.com/boschglobal/dse.modelc/releases/download/v2.1.15/ModelC-2.1.15-linux-amd64.zip -> downloads/ModelC-2.1.15-linux-amd64.zip\n",
      "CURL https://github.com/boschglobal/dse.fmi/releases/download/v1.1.15/Fmi-1.1.15-linux-amd64.zip -> downloads/Fmi-1.1.15-linux-amd64.zip\n"
     ]
    },
    {
     "name": "stderr",
     "output_type": "stream",
     "text": [
      "\u001b[32mtask: [dse:download-file:https://github.com/boschglobal/dse.modelc/releases/download/v2.1.15/ModelC-2.1.15-linux-amd64.zip-downloads/ModelC-2.1.15-linux-amd64.zip] echo \"CURL https://github.com/boschglobal/dse.modelc/releases/download/v2.1.15/ModelC-2.1.15-linux-amd64.zip -> downloads/ModelC-2.1.15-linux-amd64.zip\"\n",
      "\u001b[0m\u001b[32mtask: [dse:download-file:https://github.com/boschglobal/dse.modelc/releases/download/v2.1.15/ModelC-2.1.15-linux-amd64.zip-downloads/ModelC-2.1.15-linux-amd64.zip] mkdir -p $(dirname downloads/ModelC-2.1.15-linux-amd64.zip)\n",
      "\u001b[0m\u001b[32mtask: [dse:download-file:https://github.com/boschglobal/dse.modelc/releases/download/v2.1.15/ModelC-2.1.15-linux-amd64.zip-downloads/ModelC-2.1.15-linux-amd64.zip] curl --retry 5  -fL https://github.com/boschglobal/dse.modelc/releases/download/v2.1.15/ModelC-2.1.15-linux-amd64.zip -o downloads/ModelC-2.1.15-linux-amd64.zip\n",
      "\u001b[0m\u001b[32mtask: [dse:download-file:https://github.com/boschglobal/dse.fmi/releases/download/v1.1.15/Fmi-1.1.15-linux-amd64.zip-downloads/Fmi-1.1.15-linux-amd64.zip] echo \"CURL https://github.com/boschglobal/dse.fmi/releases/download/v1.1.15/Fmi-1.1.15-linux-amd64.zip -> downloads/Fmi-1.1.15-linux-amd64.zip\"\n",
      "\u001b[0m\u001b[32mtask: [dse:download-file:https://github.com/boschglobal/dse.fmi/releases/download/v1.1.15/Fmi-1.1.15-linux-amd64.zip-downloads/Fmi-1.1.15-linux-amd64.zip] mkdir -p $(dirname downloads/Fmi-1.1.15-linux-amd64.zip)\n",
      "\u001b[0m  % Total    % Received % Xferd  Average Speed   Time    Time     Time  Current\n",
      "                                 Dload  Upload   Total   Spent    Left  Speed\n",
      "  0     0    0     0    0     0      0      0 --:--:-- --:--:-- --:--:--     0\u001b[32mtask: [dse:download-file:https://github.com/boschglobal/dse.fmi/releases/download/v1.1.15/Fmi-1.1.15-linux-amd64.zip-downloads/Fmi-1.1.15-linux-amd64.zip] curl --retry 5  -fL https://github.com/boschglobal/dse.fmi/releases/download/v1.1.15/Fmi-1.1.15-linux-amd64.zip -o downloads/Fmi-1.1.15-linux-amd64.zip\n",
      "\u001b[0m  % Total    % Received % Xferd  Average Speed   Time    Time     Time  Current\n",
      "                                 Dload  Upload   Total   Spent    Left  Speed\n",
      "  0     0    0     0    0     0      0      0 --:--:--  0:00:01 --:--:--     0\n",
      "  0     0    0     0    0     0      0      0 --:--:--  0:00:01 --:--:--     0\n",
      "100 8416k  100 8416k    0     0  1807k      0  0:00:04  0:00:04 --:--:-- 3639k\n",
      "\u001b[32mtask: [dse:fmu-fetch-extract:https://github.com/boschglobal/dse.fmi/releases/download/v1.1.15/Fmi-1.1.15-linux-amd64.zip-Fmi-1.1.15-linux-amd64/examples/fmu/linear/fmi2/linear.fmu-sim/model/linear/fmu] echo \"FMU Fetch/Extract https://github.com/boschglobal/dse.fmi/releases/download/v1.1.15/Fmi-1.1.15-linux-amd64.zip/Fmi-1.1.15-linux-amd64/examples/fmu/linear/fmi2/linear.fmu -> sim/model/linear/fmu\"\n",
      "\u001b[0m\u001b[32mtask: [dse:unzip-file:Fmi-1.1.15-linux-amd64/examples/fmu/linear/fmi2/linear.fmu-] echo \"UNZIP FILE downloads/Fmi-1.1.15-linux-amd64.zip/Fmi-1.1.15-linux-amd64/examples/fmu/linear/fmi2/linear.fmu -> fmus/linear.fmu\"\n",
      "\u001b[0m\u001b[32mtask: [dse:unzip-file:Fmi-1.1.15-linux-amd64/examples/fmu/linear/fmi2/linear.fmu-] mkdir -p $(dirname fmus/linear.fmu)\n",
      "\u001b[0m\u001b[32mtask: [dse:unzip-file:Fmi-1.1.15-linux-amd64/examples/fmu/linear/fmi2/linear.fmu-] unzip -o -j downloads/Fmi-1.1.15-linux-amd64.zip Fmi-1.1.15-linux-amd64/examples/fmu/linear/fmi2/linear.fmu -d $(dirname fmus/linear.fmu)\n",
      "\u001b[0m\u001b[32mtask: [dse:unzip-file:Fmi-1.1.15-linux-amd64/examples/fmu/linear/fmi2/linear.fmu-] mv -n $(dirname fmus/linear.fmu)/$(basename Fmi-1.1.15-linux-amd64/examples/fmu/linear/fmi2/linear.fmu) fmus/linear.fmu\n",
      "100 6294k  100 6294k    0     0  1332k      0  0:00:04  0:00:04 --:--:-- 2603k\n",
      "\u001b[32mtask: [sim:model:input] echo \"Current directory \"\n",
      "\u001b[0m\u001b[32mtask: [sim:model:input] echo \"SIM Model input -> sim/model/input\"\n",
      "\u001b[0m\u001b[32mtask: [sim:model:input] echo \"/home/kki8kor/dse.sdp/examples/openloop\"\n",
      "\u001b[0m\u001b[32mtask: [sim:model:input] mkdir -p 'sim/model/input/data'\n",
      "\u001b[0m\u001b[32mtask: [dse:unzip-dir:-sim/model/linear/fmu] echo \"UNZIP DIR fmus/linear.fmu/ -> sim/model/linear/fmu\"\n",
      "\u001b[0m\u001b[32mtask: [dse:unzip-dir:-sim/model/linear/fmu] mkdir -p sim/model/linear/fmu\n",
      "\u001b[0m\u001b[32mtask: [sim:model:input] cp /home/kki8kor/dse.sdp/examples/openloop/csv_input/input__value_set.csv 'sim/model/input/data/input.csv'\n",
      "\u001b[0m\u001b[32mtask: [dse:unzip-dir:-sim/model/linear/fmu] unzip -o  fmus/linear.fmu  -d sim/model/linear/fmu\n",
      "\u001b[0m\u001b[32mtask: [sim:model:input] cp /home/kki8kor/dse.sdp/examples/openloop/input__model.yaml 'sim/model/input/data/model.yaml'\n",
      "\u001b[0m\u001b[32mtask: [sim:model:input] cp /home/kki8kor/dse.sdp/examples/openloop/input__signalgroup.yaml 'sim/model/input/data/signalgroup.yaml'\n",
      "\u001b[0m\u001b[32mtask: [dse:unzip-file:ModelC-2.1.15-linux-amd64/examples/csv/lib/libcsv.so-] echo \"UNZIP FILE downloads/ModelC-2.1.15-linux-amd64.zip/ModelC-2.1.15-linux-amd64/examples/csv/lib/libcsv.so -> sim/model/input/lib/libcsv.so\"\n",
      "\u001b[0m\u001b[32mtask: [dse:unzip-file:ModelC-2.1.15-linux-amd64/examples/csv/lib/libcsv.so-] mkdir -p $(dirname sim/model/input/lib/libcsv.so)\n",
      "\u001b[0m\u001b[32mtask: [dse:unzip-file:ModelC-2.1.15-linux-amd64/examples/csv/lib/libcsv.so-] unzip -o -j downloads/ModelC-2.1.15-linux-amd64.zip ModelC-2.1.15-linux-amd64/examples/csv/lib/libcsv.so -d $(dirname sim/model/input/lib/libcsv.so)\n",
      "\u001b[0m\u001b[32mtask: [dse:unzip-file:ModelC-2.1.15-linux-amd64/examples/csv/lib/libcsv.so-] mv -n $(dirname sim/model/input/lib/libcsv.so)/$(basename ModelC-2.1.15-linux-amd64/examples/csv/lib/libcsv.so) sim/model/input/lib/libcsv.so\n",
      "\u001b[0m\u001b[32mtask: [sim:model:linear] echo \"SIM Model linear -> sim/model/linear\"\n",
      "\u001b[0m\u001b[32mtask: [dse:unzip-file:Fmi-1.1.15-linux-amd64/fmimcl/lib/libfmimcl.so-] echo \"UNZIP FILE downloads/Fmi-1.1.15-linux-amd64.zip/Fmi-1.1.15-linux-amd64/fmimcl/lib/libfmimcl.so -> sim/model/linear/lib/libfmimcl.so\"\n",
      "\u001b[0m\u001b[32mtask: [dse:unzip-file:Fmi-1.1.15-linux-amd64/fmimcl/lib/libfmimcl.so-] mkdir -p $(dirname sim/model/linear/lib/libfmimcl.so)\n",
      "\u001b[0m\u001b[32mtask: [dse:unzip-file:Fmi-1.1.15-linux-amd64/fmimcl/lib/libfmimcl.so-] unzip -o -j downloads/Fmi-1.1.15-linux-amd64.zip Fmi-1.1.15-linux-amd64/fmimcl/lib/libfmimcl.so -d $(dirname sim/model/linear/lib/libfmimcl.so)\n",
      "\u001b[0m\u001b[32mtask: [dse:unzip-file:Fmi-1.1.15-linux-amd64/fmimcl/lib/libfmimcl.so-] mv -n $(dirname sim/model/linear/lib/libfmimcl.so)/$(basename Fmi-1.1.15-linux-amd64/fmimcl/lib/libfmimcl.so) sim/model/linear/lib/libfmimcl.so\n",
      "\u001b[0m\u001b[32mtask: [dse:fmi:gen-mcl] docker run --rm -v /home/kki8kor/dse.sdp/examples/openloop/out/sim:/sim ghcr.io/boschglobal/dse-fmi:1.1.15 gen-mcl --fmu model/linear/fmu --outdir model/linear/data --mcl model/linear/lib/libfmimcl.so \n",
      "\u001b[0m"
     ]
    },
    {
     "name": "stdout",
     "output_type": "stream",
     "text": [
      "FMU Fetch/Extract https://github.com/boschglobal/dse.fmi/releases/download/v1.1.15/Fmi-1.1.15-linux-amd64.zip/Fmi-1.1.15-linux-amd64/examples/fmu/linear/fmi2/linear.fmu -> sim/model/linear/fmu\n",
      "UNZIP FILE downloads/Fmi-1.1.15-linux-amd64.zip/Fmi-1.1.15-linux-amd64/examples/fmu/linear/fmi2/linear.fmu -> fmus/linear.fmu\n",
      "Archive:  downloads/Fmi-1.1.15-linux-amd64.zip\n",
      "  inflating: fmus/linear.fmu         \n",
      "Current directory \n",
      "SIM Model input -> sim/model/input\n",
      "/home/kki8kor/dse.sdp/examples/openloop\n",
      "UNZIP DIR fmus/linear.fmu/ -> sim/model/linear/fmu\n",
      "Archive:  fmus/linear.fmu\n",
      "   creating: sim/model/linear/fmu/resources/\n",
      " extracting: sim/model/linear/fmu/resources/.keepme  \n",
      "   creating: sim/model/linear/fmu/binaries/\n",
      "   creating: sim/model/linear/fmu/binaries/linux64/\n",
      "  inflating: sim/model/linear/fmu/binaries/linux64/fmu2linear.so  UNZIP FILE downloads/ModelC-2.1.15-linux-amd64.zip/ModelC-2.1.15-linux-amd64/examples/csv/lib/libcsv.so -> sim/model/input/lib/libcsv.so\n",
      "\n",
      "  inflating: sim/model/linear/fmu/modelDescription.xml  \n",
      "  inflating: sim/model/linear/fmu/linear.fmu  Archive:  downloads/ModelC-2.1.15-linux-amd64.zip\n",
      "  inflating: sim/model/input/lib/libcsv.so  \n",
      "\n",
      " extracting: sim/model/linear/fmu/.keepme  \n",
      "SIM Model linear -> sim/model/linear\n",
      "UNZIP FILE downloads/Fmi-1.1.15-linux-amd64.zip/Fmi-1.1.15-linux-amd64/fmimcl/lib/libfmimcl.so -> sim/model/linear/lib/libfmimcl.so\n",
      "Archive:  downloads/Fmi-1.1.15-linux-amd64.zip\n",
      "  inflating: sim/model/linear/lib/libfmimcl.so  \n"
     ]
    },
    {
     "name": "stderr",
     "output_type": "stream",
     "text": [
      "Running FMI Toolset command: gen-mcl\n",
      "Options:\n",
      "  fmu            : model/linear/fmu\n",
      "  log            : 4\n",
      "  mcl            : model/linear/lib/libfmimcl.so\n",
      "  outdir         : model/linear/data\n",
      "  platform       : linux-amd64\n",
      "Reading FMU Desciption (model/linear/fmu/modelDescription.xml)\n",
      "Creating Model YAML: linear (model/linear/data/model.yaml)\n",
      "\u001b[32mtask: [dse:fmi:gen-signalgroup] docker run --rm -v /home/kki8kor/dse.sdp/examples/openloop/out/sim:/sim ghcr.io/boschglobal/dse-fmi:1.1.15 gen-signalgroup --input model/linear/fmu/modelDescription.xml --output 'model/linear/data/signalgroup.yaml'\n",
      "\u001b[0mRunning FMI Toolset command: gen-signalgroup\n",
      "Options:\n",
      "  input          : model/linear/fmu/modelDescription.xml\n",
      "  log            : 4\n",
      "  output         : model/linear/data/signalgroup.yaml\n",
      "Reading file: model/linear/fmu/modelDescription.xml\n",
      "Appending file: model/linear/data/signalgroup.yaml\n",
      "\u001b[32mtask: [build] mkdir -p 'sim/data'\n",
      "\u001b[0m\u001b[32mtask: [build] cp /home/kki8kor/dse.sdp/examples/openloop/simulation.yaml 'sim/data/simulation.yaml'\n",
      "\u001b[0m"
     ]
    },
    {
     "name": "stdout",
     "output_type": "stream",
     "text": [
      "Command executed successfully.\n",
      "Running: docker run --rm -v /home/kki8kor/dse.sdp/examples/openloop/out/sim:/sim ghcr.io/boschglobal/dse-simer:latest -env linear:MEASUREMENT_FILE=/sim/measurement.mf4 -stepsize 0.0005 -endtime 0.005\n",
      "1) Version: 2.1.6\u001b[0m\n",
      "1) Load YAML File: data/simulation.yaml\u001b[0m\n",
      "2) Version: 2.1.6\u001b[0m\n",
      "2) Platform: linux-amd64\u001b[0m\n",
      "2) Time: 2025-00-17 08:41:52 (UTC)\u001b[0m\n",
      "2) Host: a009f096737d\u001b[0m\n",
      "2) CWD: /sim\u001b[0m\n",
      "2) Load YAML File: data/simulation.yaml\u001b[0m\n",
      "3) Version: 2.1.6\u001b[0m\n",
      "3) Platform: linux-amd64\u001b[0m\n",
      "3) Time: 2025-00-17 08:41:52 (UTC)\u001b[0m\n",
      "3) Host: a009f096737d\u001b[0m\n",
      "3) CWD: /sim\u001b[0m\n",
      "3) Load YAML File: data/simulation.yaml\u001b[0m\n",
      "2) Load YAML File: model/input/data/model.yaml\u001b[0m\n",
      "3) Load YAML File: model/linear/data/model.yaml\u001b[0m\n",
      "2) Load YAML File: model/input/data/signalgroup.yaml\u001b[0m\n",
      "3) Load YAML File: model/linear/data/signalgroup.yaml\u001b[0m\n",
      "3) Simulation Parameters:\u001b[0m\n",
      "3)   Step Size: 0.000500\u001b[0m\n",
      "3)   End Time: 0.005000\u001b[0m\n",
      "3)   Model Timeout: 60.000000\u001b[0m\n",
      "3)   Sim Path: (null)\u001b[0m\n",
      "3) Transport:\u001b[0m\n",
      "3)   Transport: redispubsub\u001b[0m\n",
      "3)   URI: redis://localhost:6379\u001b[0m\n",
      "3) Platform:\u001b[0m\n",
      "3)   Platform OS: linux\u001b[0m\n",
      "3)   Platform Arch: amd64\u001b[0m\n",
      "3) Model Instance:\u001b[0m\n",
      "3)   Name: linear\u001b[0m\n",
      "3)   UID: 42\u001b[0m\n",
      "3)   Model Name: linear\u001b[0m\n",
      "3)   Model Path: (null)\u001b[0m\n",
      "3)   Model File: model/linear/lib/libfmimcl.so\u001b[0m\n",
      "3)   Model Location: model/linear/lib/libfmimcl.so\u001b[0m\n",
      "3) Create the Endpoint object ...\u001b[0m\n",
      "3)   Redis Pub/Sub:\u001b[0m\n",
      "3)     path: (null)\u001b[0m\n",
      "3)     hostname: localhost\u001b[0m\n",
      "3)     port: 6379\u001b[0m\n",
      "3) Connection error: Connection refused\u001b[0m\n",
      "3) Retry endpoint creation ...\u001b[0m\n",
      "3)   Redis Pub/Sub:\u001b[0m\n",
      "3)     path: (null)\u001b[0m\n",
      "3)     hostname: localhost\u001b[0m\n",
      "3)     port: 6379\u001b[0m\n",
      "3)   Endpoint: \u001b[0m\n",
      "3)     Model UID: 6\u001b[0m\n",
      "3)     Client ID: 6\u001b[0m\n",
      "3) Create the Controller object ...\u001b[0m\n",
      "3) Create the Adapter object ...\u001b[0m\n",
      "3) Load endpoint create function: adapter_create_msg_vtable\u001b[0m\n",
      "3) Load and configure the Simulation Models ...\u001b[0m\n",
      "3) Loading dynamic model: model/linear/lib/libfmimcl.so ...\u001b[0m\n",
      "3) Loading symbol: model_create ... ok\u001b[0m\n",
      "3) Loading symbol: model_step ... ok\u001b[0m\n",
      "3) Loading symbol: model_destroy ... ok\u001b[0m\n",
      "3) Configure Channel: signal_channel\u001b[0m\n",
      "3)   Channel Name: physical\u001b[0m\n",
      "3)   Channel Alias: signal_channel\u001b[0m\n",
      "3)   Unique signals identified: 4\u001b[0m\n",
      "3) Init Controller channel: physical\u001b[0m\n",
      "3)   Pub Key: bus.ch.physical.tx\u001b[0m\n",
      "3)   Sub Key: bus.ch.physical.rx\u001b[0m\n",
      "3) Configure Channel: network_channel\u001b[0m\n",
      "3)   Channel Name: Network\u001b[0m\n",
      "3)   Channel Alias: network_channel\u001b[0m\n",
      "3)   Unique signals identified: 0\u001b[0m\n",
      "3) Init Controller channel: Network\u001b[0m\n",
      "3)   Pub Key: bus.ch.Network.tx\u001b[0m\n",
      "3)   Sub Key: bus.ch.Network.rx\u001b[0m\n",
      "3) FMU Model:\u001b[0m\n",
      "3)   Name = linear\u001b[0m\n",
      "3)   MCL Adapter = fmi\u001b[0m\n",
      "3)   MCL Version = 2.0\u001b[0m\n",
      "3)   CoSim = true\u001b[0m\n",
      "3)   Model Version = \u001b[0m\n",
      "3)   Model Stepsize = 0.000500\u001b[0m\n",
      "3)   Model GUID = {71da084a-0998-4418-a29d-01af36a32568}\u001b[0m\n",
      "3)   Model Resource Directory = model/linear/fmu/resources\u001b[0m\n",
      "3)   Path = model/linear/fmu/binaries/linux64/fmu2linear.so (linux/amd64)\u001b[0m\n",
      "3) FMU <-> SignalVector mapping for: physical\u001b[0m\n",
      "3)   Variable: output (3) <-> output (0)\u001b[0m\n",
      "3)   Variable: input (0) <-> input (1)\u001b[0m\n",
      "3)   Variable: factor (1) <-> factor (2)\u001b[0m\n",
      "3)   Variable: offset (2) <-> offset (3)\u001b[0m\n",
      "3) FMU: Create the FMU Model Instance Data\n",
      "3) Measurement File: /sim/measurement.mf4\u001b[0m\n",
      "3) Run the Simulation ...\u001b[0m\n",
      "3) Call symbol: model_destroy ...\u001b[0m\n",
      "3) Controller exit ...\u001b[0m\n",
      "Command executed successfully.\n",
      "Simulation complete.\n",
      "Converted MDF to CSV: out/sim/measurement.ChannelGroup_0_linear.csv\n",
      "Simulation executed successfully.\n"
     ]
    }
   ],
   "source": [
    "try:\n",
    "    run_simulation()\n",
    "    print(\"Simulation executed successfully.\")\n",
    "except Exception as e:\n",
    "    print(f\"Error in simulation: {e}\")\n"
   ]
  },
  {
   "cell_type": "markdown",
   "metadata": {},
   "source": [
    "Load and Visualize Results"
   ]
  },
  {
   "cell_type": "code",
   "execution_count": null,
   "metadata": {},
   "outputs": [],
   "source": [
    "# Load CSV\n",
    "if Path(CSV_OUTPUT).exists():\n",
    "    results = pd.read_csv(CSV_OUTPUT)\n",
    "    print(\"Simulation Results Loaded.\")\n",
    "else:\n",
    "    raise FileNotFoundError(f\"Output file not found: {CSV_OUTPUT}\")\n",
    "\n",
    "# Plot results\n",
    "plt.figure(figsize=(10, 5))\n",
    "for col in results.columns[1:]:\n",
    "    plt.plot(results['timestamps'], results[col], label=col)\n",
    "\n",
    "plt.title(\"Simulation Results\")\n",
    "plt.xlabel(\"Time\")\n",
    "plt.ylabel(\"Values\")\n",
    "plt.legend()\n",
    "plt.grid()\n",
    "plt.show()\n",
    "\n"
   ]
  }
 ],
 "metadata": {
  "kernelspec": {
   "display_name": "Python 3",
   "language": "python",
   "name": "python3"
  },
  "language_info": {
   "codemirror_mode": {
    "name": "ipython",
    "version": 3
   },
   "file_extension": ".py",
   "mimetype": "text/x-python",
   "name": "python",
   "nbconvert_exporter": "python",
   "pygments_lexer": "ipython3",
   "version": "3.10.12"
  }
 },
 "nbformat": 4,
 "nbformat_minor": 2
}
